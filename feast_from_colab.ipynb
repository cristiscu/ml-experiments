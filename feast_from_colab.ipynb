{
  "nbformat": 4,
  "nbformat_minor": 0,
  "metadata": {
    "colab": {
      "provenance": [],
      "authorship_tag": "ABX9TyMkF140Of4hniGyVk9h4kRf",
      "include_colab_link": true
    },
    "kernelspec": {
      "name": "python3",
      "display_name": "Python 3"
    },
    "language_info": {
      "name": "python"
    }
  },
  "cells": [
    {
      "cell_type": "markdown",
      "metadata": {
        "id": "view-in-github",
        "colab_type": "text"
      },
      "source": [
        "<a href=\"https://colab.research.google.com/github/cristiscu/ml-experiments/blob/main/feast_from_colab.ipynb\" target=\"_parent\"><img src=\"https://colab.research.google.com/assets/colab-badge.svg\" alt=\"Open In Colab\"/></a>"
      ]
    },
    {
      "cell_type": "code",
      "execution_count": 7,
      "metadata": {
        "id": "e48eIE3gAi-m"
      },
      "outputs": [],
      "source": [
        "!pip install feast --use-deprecated=legacy-resolver -Uq"
      ]
    },
    {
      "cell_type": "code",
      "source": [
        "!feast init my_feature_repo\n",
        "%cd my_feature_repo/feature_repo"
      ],
      "metadata": {
        "colab": {
          "base_uri": "https://localhost:8080/"
        },
        "id": "qDRRyM3NEYmV",
        "outputId": "50cbce9a-0735-4fd3-c825-f820b06d00ef"
      },
      "execution_count": 8,
      "outputs": [
        {
          "output_type": "stream",
          "name": "stdout",
          "text": [
            "/usr/local/lib/python3.10/dist-packages/pkg_resources/__init__.py:121: DeprecationWarning: pkg_resources is deprecated as an API\n",
            "  warnings.warn(\"pkg_resources is deprecated as an API\", DeprecationWarning)\n",
            "/usr/local/lib/python3.10/dist-packages/pkg_resources/__init__.py:2870: DeprecationWarning: Deprecated call to `pkg_resources.declare_namespace('google')`.\n",
            "Implementing implicit namespace packages (as specified in PEP 420) is preferred to `pkg_resources.declare_namespace`. See https://setuptools.pypa.io/en/latest/references/keywords.html#keyword-namespace-packages\n",
            "  declare_namespace(pkg)\n",
            "/usr/local/lib/python3.10/dist-packages/pkg_resources/__init__.py:2870: DeprecationWarning: Deprecated call to `pkg_resources.declare_namespace('google.cloud')`.\n",
            "Implementing implicit namespace packages (as specified in PEP 420) is preferred to `pkg_resources.declare_namespace`. See https://setuptools.pypa.io/en/latest/references/keywords.html#keyword-namespace-packages\n",
            "  declare_namespace(pkg)\n",
            "/usr/local/lib/python3.10/dist-packages/pkg_resources/__init__.py:2870: DeprecationWarning: Deprecated call to `pkg_resources.declare_namespace('google.logging')`.\n",
            "Implementing implicit namespace packages (as specified in PEP 420) is preferred to `pkg_resources.declare_namespace`. See https://setuptools.pypa.io/en/latest/references/keywords.html#keyword-namespace-packages\n",
            "  declare_namespace(pkg)\n",
            "/usr/local/lib/python3.10/dist-packages/pkg_resources/__init__.py:2870: DeprecationWarning: Deprecated call to `pkg_resources.declare_namespace('google.iam')`.\n",
            "Implementing implicit namespace packages (as specified in PEP 420) is preferred to `pkg_resources.declare_namespace`. See https://setuptools.pypa.io/en/latest/references/keywords.html#keyword-namespace-packages\n",
            "  declare_namespace(pkg)\n",
            "/usr/local/lib/python3.10/dist-packages/pkg_resources/__init__.py:2870: DeprecationWarning: Deprecated call to `pkg_resources.declare_namespace('mpl_toolkits')`.\n",
            "Implementing implicit namespace packages (as specified in PEP 420) is preferred to `pkg_resources.declare_namespace`. See https://setuptools.pypa.io/en/latest/references/keywords.html#keyword-namespace-packages\n",
            "  declare_namespace(pkg)\n",
            "/usr/local/lib/python3.10/dist-packages/pkg_resources/__init__.py:2870: DeprecationWarning: Deprecated call to `pkg_resources.declare_namespace('sphinxcontrib')`.\n",
            "Implementing implicit namespace packages (as specified in PEP 420) is preferred to `pkg_resources.declare_namespace`. See https://setuptools.pypa.io/en/latest/references/keywords.html#keyword-namespace-packages\n",
            "  declare_namespace(pkg)\n",
            "08/17/2023 04:02:19 PM root INFO: copying /usr/local/lib/python3.10/dist-packages/feast/templates/local/__init__.py -> /content/my_feature_repo/feature_repo/my_feature_repo\n",
            "08/17/2023 04:02:19 PM root INFO: creating /content/my_feature_repo/feature_repo/my_feature_repo/feature_repo\n",
            "08/17/2023 04:02:19 PM root INFO: copying /usr/local/lib/python3.10/dist-packages/feast/templates/local/feature_repo/test_workflow.py -> /content/my_feature_repo/feature_repo/my_feature_repo/feature_repo\n",
            "08/17/2023 04:02:19 PM root INFO: copying /usr/local/lib/python3.10/dist-packages/feast/templates/local/feature_repo/__init__.py -> /content/my_feature_repo/feature_repo/my_feature_repo/feature_repo\n",
            "08/17/2023 04:02:19 PM root INFO: copying /usr/local/lib/python3.10/dist-packages/feast/templates/local/feature_repo/example_repo.py -> /content/my_feature_repo/feature_repo/my_feature_repo/feature_repo\n",
            "08/17/2023 04:02:19 PM root INFO: copying /usr/local/lib/python3.10/dist-packages/feast/templates/local/feature_repo/feature_store.yaml -> /content/my_feature_repo/feature_repo/my_feature_repo/feature_repo\n",
            "08/17/2023 04:02:19 PM root INFO: creating /content/my_feature_repo/feature_repo/my_feature_repo/feature_repo/__pycache__\n",
            "08/17/2023 04:02:19 PM root INFO: copying /usr/local/lib/python3.10/dist-packages/feast/templates/local/feature_repo/__pycache__/__init__.cpython-310.pyc -> /content/my_feature_repo/feature_repo/my_feature_repo/feature_repo/__pycache__\n",
            "08/17/2023 04:02:19 PM root INFO: copying /usr/local/lib/python3.10/dist-packages/feast/templates/local/feature_repo/__pycache__/example_repo.cpython-310.pyc -> /content/my_feature_repo/feature_repo/my_feature_repo/feature_repo/__pycache__\n",
            "08/17/2023 04:02:19 PM root INFO: copying /usr/local/lib/python3.10/dist-packages/feast/templates/local/feature_repo/__pycache__/test_workflow.cpython-310.pyc -> /content/my_feature_repo/feature_repo/my_feature_repo/feature_repo/__pycache__\n",
            "08/17/2023 04:02:19 PM root INFO: copying /usr/local/lib/python3.10/dist-packages/feast/templates/local/bootstrap.py -> /content/my_feature_repo/feature_repo/my_feature_repo\n",
            "08/17/2023 04:02:19 PM root INFO: copying /usr/local/lib/python3.10/dist-packages/feast/templates/local/README.md -> /content/my_feature_repo/feature_repo/my_feature_repo\n",
            "08/17/2023 04:02:19 PM root INFO: creating /content/my_feature_repo/feature_repo/my_feature_repo/__pycache__\n",
            "08/17/2023 04:02:19 PM root INFO: copying /usr/local/lib/python3.10/dist-packages/feast/templates/local/__pycache__/__init__.cpython-310.pyc -> /content/my_feature_repo/feature_repo/my_feature_repo/__pycache__\n",
            "08/17/2023 04:02:19 PM root INFO: copying /usr/local/lib/python3.10/dist-packages/feast/templates/local/__pycache__/bootstrap.cpython-310.pyc -> /content/my_feature_repo/feature_repo/my_feature_repo/__pycache__\n",
            "\n",
            "Creating a new Feast repository in \u001b[1m\u001b[32m/content/my_feature_repo/feature_repo/my_feature_repo\u001b[0m.\n",
            "\n",
            "/content/my_feature_repo/feature_repo/my_feature_repo/feature_repo\n"
          ]
        }
      ]
    },
    {
      "cell_type": "code",
      "source": [
        "!feast apply"
      ],
      "metadata": {
        "colab": {
          "base_uri": "https://localhost:8080/"
        },
        "id": "Su3R5DECKz2v",
        "outputId": "a9bc4c48-f412-4196-b040-cdec2077f42e"
      },
      "execution_count": 9,
      "outputs": [
        {
          "output_type": "stream",
          "name": "stdout",
          "text": [
            "/usr/local/lib/python3.10/dist-packages/pkg_resources/__init__.py:121: DeprecationWarning: pkg_resources is deprecated as an API\n",
            "  warnings.warn(\"pkg_resources is deprecated as an API\", DeprecationWarning)\n",
            "/usr/local/lib/python3.10/dist-packages/pkg_resources/__init__.py:2870: DeprecationWarning: Deprecated call to `pkg_resources.declare_namespace('google')`.\n",
            "Implementing implicit namespace packages (as specified in PEP 420) is preferred to `pkg_resources.declare_namespace`. See https://setuptools.pypa.io/en/latest/references/keywords.html#keyword-namespace-packages\n",
            "  declare_namespace(pkg)\n",
            "/usr/local/lib/python3.10/dist-packages/pkg_resources/__init__.py:2870: DeprecationWarning: Deprecated call to `pkg_resources.declare_namespace('google.cloud')`.\n",
            "Implementing implicit namespace packages (as specified in PEP 420) is preferred to `pkg_resources.declare_namespace`. See https://setuptools.pypa.io/en/latest/references/keywords.html#keyword-namespace-packages\n",
            "  declare_namespace(pkg)\n",
            "/usr/local/lib/python3.10/dist-packages/pkg_resources/__init__.py:2870: DeprecationWarning: Deprecated call to `pkg_resources.declare_namespace('google.logging')`.\n",
            "Implementing implicit namespace packages (as specified in PEP 420) is preferred to `pkg_resources.declare_namespace`. See https://setuptools.pypa.io/en/latest/references/keywords.html#keyword-namespace-packages\n",
            "  declare_namespace(pkg)\n",
            "/usr/local/lib/python3.10/dist-packages/pkg_resources/__init__.py:2870: DeprecationWarning: Deprecated call to `pkg_resources.declare_namespace('google.iam')`.\n",
            "Implementing implicit namespace packages (as specified in PEP 420) is preferred to `pkg_resources.declare_namespace`. See https://setuptools.pypa.io/en/latest/references/keywords.html#keyword-namespace-packages\n",
            "  declare_namespace(pkg)\n",
            "/usr/local/lib/python3.10/dist-packages/pkg_resources/__init__.py:2870: DeprecationWarning: Deprecated call to `pkg_resources.declare_namespace('mpl_toolkits')`.\n",
            "Implementing implicit namespace packages (as specified in PEP 420) is preferred to `pkg_resources.declare_namespace`. See https://setuptools.pypa.io/en/latest/references/keywords.html#keyword-namespace-packages\n",
            "  declare_namespace(pkg)\n",
            "/usr/local/lib/python3.10/dist-packages/pkg_resources/__init__.py:2870: DeprecationWarning: Deprecated call to `pkg_resources.declare_namespace('sphinxcontrib')`.\n",
            "Implementing implicit namespace packages (as specified in PEP 420) is preferred to `pkg_resources.declare_namespace`. See https://setuptools.pypa.io/en/latest/references/keywords.html#keyword-namespace-packages\n",
            "  declare_namespace(pkg)\n",
            "08/17/2023 04:02:35 PM feast.infra.registry.registry INFO: Registry cache expired, so refreshing\n",
            "08/17/2023 04:02:35 PM feast.infra.registry.registry INFO: Registry cache expired, so refreshing\n",
            "08/17/2023 04:02:35 PM feast.infra.registry.registry INFO: Registry cache expired, so refreshing\n",
            "08/17/2023 04:02:35 PM feast.infra.registry.registry INFO: Registry cache expired, so refreshing\n",
            "08/17/2023 04:02:35 PM feast.infra.registry.registry INFO: Registry cache expired, so refreshing\n",
            "08/17/2023 04:02:35 PM feast.infra.registry.registry INFO: Registry cache expired, so refreshing\n",
            "08/17/2023 04:02:35 PM feast.infra.registry.registry INFO: Registry cache expired, so refreshing\n",
            "08/17/2023 04:02:35 PM feast.infra.registry.registry INFO: Registry cache expired, so refreshing\n",
            "/usr/local/lib/python3.10/dist-packages/feast/feature_store.py:561: RuntimeWarning: On demand feature view is an experimental feature. This API is stable, but the functionality does not scale well for offline retrieval\n",
            "  warnings.warn(\n",
            "08/17/2023 04:02:35 PM feast.infra.registry.registry INFO: Registry cache expired, so refreshing\n",
            "/usr/local/lib/python3.10/dist-packages/feast/infra/offline_stores/file_source.py:161: FutureWarning: 'ParquetDataset.schema' attribute is deprecated as of pyarrow 5.0.0 and will be removed in a future version. Specify 'use_legacy_dataset=False' while constructing the ParquetDataset, and then use the '.schema' attribute instead (which will return an Arrow schema instead of a Parquet schema).\n",
            "  schema = ParquetDataset(path).schema\n",
            "08/17/2023 04:02:36 PM feast.infra.registry.registry INFO: Registry cache expired, so refreshing\n",
            "08/17/2023 04:02:36 PM feast.infra.registry.registry INFO: Registry cache expired, so refreshing\n",
            "08/17/2023 04:02:36 PM feast.infra.registry.registry INFO: Registry cache expired, so refreshing\n",
            "08/17/2023 04:02:36 PM feast.infra.registry.registry INFO: Registry cache expired, so refreshing\n",
            "08/17/2023 04:02:36 PM feast.infra.registry.registry INFO: Registry cache expired, so refreshing\n",
            "08/17/2023 04:02:36 PM feast.infra.registry.registry INFO: Registry cache expired, so refreshing\n",
            "08/17/2023 04:02:36 PM feast.infra.registry.registry INFO: Registry cache expired, so refreshing\n",
            "08/17/2023 04:02:36 PM feast.infra.registry.registry INFO: Registry cache expired, so refreshing\n"
          ]
        }
      ]
    },
    {
      "cell_type": "code",
      "source": [
        "!feast entities list"
      ],
      "metadata": {
        "colab": {
          "base_uri": "https://localhost:8080/"
        },
        "id": "04FOxbDCM8uA",
        "outputId": "8b217f9f-0e20-4d8b-8adc-e156421bd075"
      },
      "execution_count": 10,
      "outputs": [
        {
          "output_type": "stream",
          "name": "stdout",
          "text": [
            "/usr/local/lib/python3.10/dist-packages/pkg_resources/__init__.py:121: DeprecationWarning: pkg_resources is deprecated as an API\n",
            "  warnings.warn(\"pkg_resources is deprecated as an API\", DeprecationWarning)\n",
            "/usr/local/lib/python3.10/dist-packages/pkg_resources/__init__.py:2870: DeprecationWarning: Deprecated call to `pkg_resources.declare_namespace('google')`.\n",
            "Implementing implicit namespace packages (as specified in PEP 420) is preferred to `pkg_resources.declare_namespace`. See https://setuptools.pypa.io/en/latest/references/keywords.html#keyword-namespace-packages\n",
            "  declare_namespace(pkg)\n",
            "/usr/local/lib/python3.10/dist-packages/pkg_resources/__init__.py:2870: DeprecationWarning: Deprecated call to `pkg_resources.declare_namespace('google.cloud')`.\n",
            "Implementing implicit namespace packages (as specified in PEP 420) is preferred to `pkg_resources.declare_namespace`. See https://setuptools.pypa.io/en/latest/references/keywords.html#keyword-namespace-packages\n",
            "  declare_namespace(pkg)\n",
            "/usr/local/lib/python3.10/dist-packages/pkg_resources/__init__.py:2870: DeprecationWarning: Deprecated call to `pkg_resources.declare_namespace('google.logging')`.\n",
            "Implementing implicit namespace packages (as specified in PEP 420) is preferred to `pkg_resources.declare_namespace`. See https://setuptools.pypa.io/en/latest/references/keywords.html#keyword-namespace-packages\n",
            "  declare_namespace(pkg)\n",
            "/usr/local/lib/python3.10/dist-packages/pkg_resources/__init__.py:2870: DeprecationWarning: Deprecated call to `pkg_resources.declare_namespace('google.iam')`.\n",
            "Implementing implicit namespace packages (as specified in PEP 420) is preferred to `pkg_resources.declare_namespace`. See https://setuptools.pypa.io/en/latest/references/keywords.html#keyword-namespace-packages\n",
            "  declare_namespace(pkg)\n",
            "/usr/local/lib/python3.10/dist-packages/pkg_resources/__init__.py:2870: DeprecationWarning: Deprecated call to `pkg_resources.declare_namespace('mpl_toolkits')`.\n",
            "Implementing implicit namespace packages (as specified in PEP 420) is preferred to `pkg_resources.declare_namespace`. See https://setuptools.pypa.io/en/latest/references/keywords.html#keyword-namespace-packages\n",
            "  declare_namespace(pkg)\n",
            "/usr/local/lib/python3.10/dist-packages/pkg_resources/__init__.py:2870: DeprecationWarning: Deprecated call to `pkg_resources.declare_namespace('sphinxcontrib')`.\n",
            "Implementing implicit namespace packages (as specified in PEP 420) is preferred to `pkg_resources.declare_namespace`. See https://setuptools.pypa.io/en/latest/references/keywords.html#keyword-namespace-packages\n",
            "  declare_namespace(pkg)\n",
            "08/17/2023 04:02:51 PM feast.infra.registry.registry INFO: Registry cache expired, so refreshing\n",
            "08/17/2023 04:02:51 PM feast.infra.registry.registry INFO: Registry cache expired, so refreshing\n",
            "NAME    DESCRIPTION    TYPE\n"
          ]
        }
      ]
    },
    {
      "cell_type": "code",
      "source": [
        "!feast registry-dump"
      ],
      "metadata": {
        "colab": {
          "base_uri": "https://localhost:8080/"
        },
        "id": "9zRIu3zQNBFu",
        "outputId": "e38f3d7a-8207-4180-ea71-1521ec11b102"
      },
      "execution_count": 11,
      "outputs": [
        {
          "output_type": "stream",
          "name": "stdout",
          "text": [
            "/usr/local/lib/python3.10/dist-packages/pkg_resources/__init__.py:121: DeprecationWarning: pkg_resources is deprecated as an API\n",
            "  warnings.warn(\"pkg_resources is deprecated as an API\", DeprecationWarning)\n",
            "/usr/local/lib/python3.10/dist-packages/pkg_resources/__init__.py:2870: DeprecationWarning: Deprecated call to `pkg_resources.declare_namespace('google')`.\n",
            "Implementing implicit namespace packages (as specified in PEP 420) is preferred to `pkg_resources.declare_namespace`. See https://setuptools.pypa.io/en/latest/references/keywords.html#keyword-namespace-packages\n",
            "  declare_namespace(pkg)\n",
            "/usr/local/lib/python3.10/dist-packages/pkg_resources/__init__.py:2870: DeprecationWarning: Deprecated call to `pkg_resources.declare_namespace('google.cloud')`.\n",
            "Implementing implicit namespace packages (as specified in PEP 420) is preferred to `pkg_resources.declare_namespace`. See https://setuptools.pypa.io/en/latest/references/keywords.html#keyword-namespace-packages\n",
            "  declare_namespace(pkg)\n",
            "/usr/local/lib/python3.10/dist-packages/pkg_resources/__init__.py:2870: DeprecationWarning: Deprecated call to `pkg_resources.declare_namespace('google.logging')`.\n",
            "Implementing implicit namespace packages (as specified in PEP 420) is preferred to `pkg_resources.declare_namespace`. See https://setuptools.pypa.io/en/latest/references/keywords.html#keyword-namespace-packages\n",
            "  declare_namespace(pkg)\n",
            "/usr/local/lib/python3.10/dist-packages/pkg_resources/__init__.py:2870: DeprecationWarning: Deprecated call to `pkg_resources.declare_namespace('google.iam')`.\n",
            "Implementing implicit namespace packages (as specified in PEP 420) is preferred to `pkg_resources.declare_namespace`. See https://setuptools.pypa.io/en/latest/references/keywords.html#keyword-namespace-packages\n",
            "  declare_namespace(pkg)\n",
            "/usr/local/lib/python3.10/dist-packages/pkg_resources/__init__.py:2870: DeprecationWarning: Deprecated call to `pkg_resources.declare_namespace('mpl_toolkits')`.\n",
            "Implementing implicit namespace packages (as specified in PEP 420) is preferred to `pkg_resources.declare_namespace`. See https://setuptools.pypa.io/en/latest/references/keywords.html#keyword-namespace-packages\n",
            "  declare_namespace(pkg)\n",
            "/usr/local/lib/python3.10/dist-packages/pkg_resources/__init__.py:2870: DeprecationWarning: Deprecated call to `pkg_resources.declare_namespace('sphinxcontrib')`.\n",
            "Implementing implicit namespace packages (as specified in PEP 420) is preferred to `pkg_resources.declare_namespace`. See https://setuptools.pypa.io/en/latest/references/keywords.html#keyword-namespace-packages\n",
            "  declare_namespace(pkg)\n",
            "08/17/2023 04:03:02 PM feast.infra.registry.registry INFO: Registry cache expired, so refreshing\n",
            "08/17/2023 04:03:02 PM feast.infra.registry.registry INFO: Registry cache expired, so refreshing\n",
            "08/17/2023 04:03:02 PM feast.infra.registry.registry INFO: Registry cache expired, so refreshing\n",
            "08/17/2023 04:03:02 PM feast.infra.registry.registry INFO: Registry cache expired, so refreshing\n",
            "08/17/2023 04:03:02 PM feast.infra.registry.registry INFO: Registry cache expired, so refreshing\n",
            "08/17/2023 04:03:02 PM feast.infra.registry.registry INFO: Registry cache expired, so refreshing\n",
            "08/17/2023 04:03:02 PM feast.infra.registry.registry INFO: Registry cache expired, so refreshing\n",
            "08/17/2023 04:03:02 PM feast.infra.registry.registry INFO: Registry cache expired, so refreshing\n",
            "08/17/2023 04:03:02 PM feast.infra.registry.registry INFO: Registry cache expired, so refreshing\n",
            "08/17/2023 04:03:02 PM feast.infra.registry.registry INFO: Registry cache expired, so refreshing\n",
            "{\n",
            "  \"project\": \"my_feature_repo\",\n",
            "  \"projectMetadata\": [\n",
            "    {\n",
            "      \"project\": \"my_feature_repo\",\n",
            "      \"projectUuid\": \"cab298b3-6b69-4e1c-8e85-abb6efbfcb23\"\n",
            "    }\n",
            "  ]\n",
            "}\n"
          ]
        }
      ]
    }
  ]
}