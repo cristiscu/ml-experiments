{
  "nbformat": 4,
  "nbformat_minor": 0,
  "metadata": {
    "colab": {
      "provenance": [],
      "toc_visible": true,
      "authorship_tag": "ABX9TyNWgCOMQD4ietAUmKv4VC9H",
      "include_colab_link": true
    },
    "kernelspec": {
      "name": "python3",
      "display_name": "Python 3"
    },
    "language_info": {
      "name": "python"
    }
  },
  "cells": [
    {
      "cell_type": "markdown",
      "metadata": {
        "id": "view-in-github",
        "colab_type": "text"
      },
      "source": [
        "<a href=\"https://colab.research.google.com/github/cristiscu/ml-experiments/blob/main/feast_from_colab_fixed.ipynb\" target=\"_parent\"><img src=\"https://colab.research.google.com/assets/colab-badge.svg\" alt=\"Open In Colab\"/></a>"
      ]
    },
    {
      "cell_type": "markdown",
      "source": [
        "# 1.&nbsp;Install Feast\n",
        "\n",
        "Should be done using the # magic command, not !.\n",
        "\n",
        "Ignore the warnings, and even the final error(s), as Feast was in fact installed.\n",
        "\n",
        "At every step, Feast will likely generate a lot of other warnings that should be ignored."
      ],
      "metadata": {
        "id": "5fxDGWrINGWI"
      }
    },
    {
      "cell_type": "code",
      "execution_count": null,
      "metadata": {
        "id": "e48eIE3gAi-m"
      },
      "outputs": [],
      "source": [
        "%pip install feast -Uq"
      ]
    },
    {
      "cell_type": "markdown",
      "source": [
        "# 2.&nbsp;Create a basic Feast example\n",
        "\n",
        "After refreshing the file folder view, you'll see:\n",
        "* a **my_feature_repo** project folder;\n",
        "* a **feature_repo** feature store subfolder;\n",
        "* a **data** subfolder with a Parquet file used as input ingestion file.\n",
        "\n",
        "The **feature_store.yaml** file will be used to configure your feature store.\n",
        "\n",
        "All Feast CLI commands must be passed from the repository folder, from where your feature store will be created."
      ],
      "metadata": {
        "id": "916ZtwQ_NuuO"
      }
    },
    {
      "cell_type": "code",
      "source": [
        "!feast init my_feature_repo\n",
        "%cd my_feature_repo/feature_repo"
      ],
      "metadata": {
        "id": "qDRRyM3NEYmV"
      },
      "execution_count": null,
      "outputs": []
    },
    {
      "cell_type": "markdown",
      "source": [
        "# 3.&nbsp;Create and populate the feature store\n",
        "\n",
        "`feast apply` will create the feature store (if it does not exist), and populate it with entities, features, and feature views, according to the Python files from the current folder.\n",
        "\n",
        "Only **example_repo.py** has code to be executed outside any *main* function, so Feast CLI will execute this Python file to populate the store."
      ],
      "metadata": {
        "id": "wClEWyWJOaP5"
      }
    },
    {
      "cell_type": "code",
      "source": [
        "!feast apply"
      ],
      "metadata": {
        "id": "Su3R5DECKz2v"
      },
      "execution_count": null,
      "outputs": []
    },
    {
      "cell_type": "markdown",
      "source": [
        "# 4.&nbsp;List entities, feature views, and the registry content\n",
        "\n",
        "* `!feast entities list`\n",
        "* `!feast feature-views list`\n",
        "* `!feast registry-dump`"
      ],
      "metadata": {
        "id": "8yT84kiqPOLa"
      }
    },
    {
      "cell_type": "code",
      "source": [
        "!feast entities list"
      ],
      "metadata": {
        "id": "04FOxbDCM8uA"
      },
      "execution_count": null,
      "outputs": []
    },
    {
      "cell_type": "code",
      "source": [
        "!feast feature-views list"
      ],
      "metadata": {
        "id": "EzLfrrheFWgZ"
      },
      "execution_count": null,
      "outputs": []
    },
    {
      "cell_type": "code",
      "source": [
        "!feast registry-dump"
      ],
      "metadata": {
        "id": "9zRIu3zQNBFu"
      },
      "execution_count": null,
      "outputs": []
    },
    {
      "cell_type": "markdown",
      "source": [
        "# 5.&nbsp;Pass data from the offline to the online store\n",
        "\n",
        "The operation is performed by the **Batch Materialization Engine** within Feast:\n",
        "* for all offline data between two dates (`feast materialize`)\n",
        "* at some specific timestamp (`feast materialize-incremental`)"
      ],
      "metadata": {
        "id": "hIWnEY1HQBDm"
      }
    },
    {
      "cell_type": "code",
      "source": [
        "!feast materialize 2021-04-07T00:00:00 2021-04-08T00:00:00"
      ],
      "metadata": {
        "id": "OstUdrEOKf3O"
      },
      "execution_count": null,
      "outputs": []
    },
    {
      "cell_type": "code",
      "source": [
        "!feast materialize-incremental $(date -u +\"%Y-%m-%dT%H:%M:%S\")"
      ],
      "metadata": {
        "id": "ds5VsD7PJcTp"
      },
      "execution_count": null,
      "outputs": []
    },
    {
      "cell_type": "markdown",
      "source": [
        "# 6.&nbsp;Perform various Feast operations\n",
        "\n",
        "The **test_workflow.py** auto-generated file contains code with typical operations in Feast. Run it the typical way in Python."
      ],
      "metadata": {
        "id": "xf5sF3zSQ4xh"
      }
    },
    {
      "cell_type": "code",
      "source": [
        "!python test_workflow.py"
      ],
      "metadata": {
        "id": "X5XAVDeWHv7x"
      },
      "execution_count": null,
      "outputs": []
    },
    {
      "cell_type": "markdown",
      "source": [
        "# 7.&nbsp;Try the Feast UI\n",
        "\n",
        "It will likely not be accessible from Colab, but this will start a web app with a GUI, to manage your Feast feature store. Just press CTRL+C to interrupt it when done."
      ],
      "metadata": {
        "id": "-aKvC61PRMQ9"
      }
    },
    {
      "cell_type": "code",
      "source": [
        "!feast ui"
      ],
      "metadata": {
        "id": "gkqYd9GXGOqP"
      },
      "execution_count": null,
      "outputs": []
    }
  ]
}